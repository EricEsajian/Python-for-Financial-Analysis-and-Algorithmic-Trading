{
 "cells": [
  {
   "cell_type": "code",
   "execution_count": 1,
   "metadata": {},
   "outputs": [],
   "source": [
    "import numpy as np\n",
    "import pandas as pd\n",
    "import matplotlib.pyplot as plt"
   ]
  },
  {
   "cell_type": "code",
   "execution_count": 2,
   "metadata": {},
   "outputs": [],
   "source": [
    "mcdon = get_pricing('MCD',\n",
    "                   start_date='2017-01-01',\n",
    "                   end_date='2017-02-01',\n",
    "                   frequency='minute')"
   ]
  },
  {
   "cell_type": "code",
   "execution_count": 3,
   "metadata": {},
   "outputs": [
    {
     "data": {
      "text/html": [
       "<div>\n",
       "<table border=\"1\" class=\"dataframe\">\n",
       "  <thead>\n",
       "    <tr style=\"text-align: right;\">\n",
       "      <th></th>\n",
       "      <th>open_price</th>\n",
       "      <th>high</th>\n",
       "      <th>low</th>\n",
       "      <th>close_price</th>\n",
       "      <th>volume</th>\n",
       "      <th>price</th>\n",
       "    </tr>\n",
       "  </thead>\n",
       "  <tbody>\n",
       "    <tr>\n",
       "      <th>2017-01-03 14:31:00+00:00</th>\n",
       "      <td>121.86</td>\n",
       "      <td>121.86</td>\n",
       "      <td>121.57</td>\n",
       "      <td>121.63</td>\n",
       "      <td>123665.0</td>\n",
       "      <td>121.63</td>\n",
       "    </tr>\n",
       "    <tr>\n",
       "      <th>2017-01-03 14:32:00+00:00</th>\n",
       "      <td>121.73</td>\n",
       "      <td>121.92</td>\n",
       "      <td>121.41</td>\n",
       "      <td>121.45</td>\n",
       "      <td>13536.0</td>\n",
       "      <td>121.45</td>\n",
       "    </tr>\n",
       "    <tr>\n",
       "      <th>2017-01-03 14:33:00+00:00</th>\n",
       "      <td>121.45</td>\n",
       "      <td>121.79</td>\n",
       "      <td>121.45</td>\n",
       "      <td>121.52</td>\n",
       "      <td>17562.0</td>\n",
       "      <td>121.52</td>\n",
       "    </tr>\n",
       "    <tr>\n",
       "      <th>2017-01-03 14:34:00+00:00</th>\n",
       "      <td>121.45</td>\n",
       "      <td>121.80</td>\n",
       "      <td>121.44</td>\n",
       "      <td>121.75</td>\n",
       "      <td>12072.0</td>\n",
       "      <td>121.75</td>\n",
       "    </tr>\n",
       "    <tr>\n",
       "      <th>2017-01-03 14:35:00+00:00</th>\n",
       "      <td>121.74</td>\n",
       "      <td>122.00</td>\n",
       "      <td>121.66</td>\n",
       "      <td>121.99</td>\n",
       "      <td>8100.0</td>\n",
       "      <td>121.99</td>\n",
       "    </tr>\n",
       "  </tbody>\n",
       "</table>\n",
       "</div>"
      ],
      "text/plain": [
       "                           open_price    high     low  close_price    volume  \\\n",
       "2017-01-03 14:31:00+00:00      121.86  121.86  121.57       121.63  123665.0   \n",
       "2017-01-03 14:32:00+00:00      121.73  121.92  121.41       121.45   13536.0   \n",
       "2017-01-03 14:33:00+00:00      121.45  121.79  121.45       121.52   17562.0   \n",
       "2017-01-03 14:34:00+00:00      121.45  121.80  121.44       121.75   12072.0   \n",
       "2017-01-03 14:35:00+00:00      121.74  122.00  121.66       121.99    8100.0   \n",
       "\n",
       "                            price  \n",
       "2017-01-03 14:31:00+00:00  121.63  \n",
       "2017-01-03 14:32:00+00:00  121.45  \n",
       "2017-01-03 14:33:00+00:00  121.52  \n",
       "2017-01-03 14:34:00+00:00  121.75  \n",
       "2017-01-03 14:35:00+00:00  121.99  "
      ]
     },
     "execution_count": 3,
     "metadata": {},
     "output_type": "execute_result"
    }
   ],
   "source": [
    "mcdon.head()"
   ]
  },
  {
   "cell_type": "code",
   "execution_count": 4,
   "metadata": {},
   "outputs": [
    {
     "name": "stdout",
     "output_type": "stream",
     "text": [
      "<class 'pandas.core.frame.DataFrame'>\n",
      "DatetimeIndex: 8190 entries, 2017-01-03 14:31:00+00:00 to 2017-02-01 21:00:00+00:00\n",
      "Data columns (total 6 columns):\n",
      "open_price     8188 non-null float64\n",
      "high           8188 non-null float64\n",
      "low            8188 non-null float64\n",
      "close_price    8188 non-null float64\n",
      "volume         8190 non-null float64\n",
      "price          8190 non-null float64\n",
      "dtypes: float64(6)\n",
      "memory usage: 447.9 KB\n"
     ]
    }
   ],
   "source": [
    "mcdon.info()"
   ]
  },
  {
   "cell_type": "code",
   "execution_count": 5,
   "metadata": {},
   "outputs": [],
   "source": [
    "mcdon = get_pricing('MCD',\n",
    "                   start_date='2005-01-01',\n",
    "                   end_date='2017-02-01',\n",
    "                   frequency='daily')"
   ]
  },
  {
   "cell_type": "code",
   "execution_count": 6,
   "metadata": {},
   "outputs": [
    {
     "data": {
      "text/html": [
       "<div>\n",
       "<table border=\"1\" class=\"dataframe\">\n",
       "  <thead>\n",
       "    <tr style=\"text-align: right;\">\n",
       "      <th></th>\n",
       "      <th>open_price</th>\n",
       "      <th>high</th>\n",
       "      <th>low</th>\n",
       "      <th>close_price</th>\n",
       "      <th>volume</th>\n",
       "      <th>price</th>\n",
       "    </tr>\n",
       "  </thead>\n",
       "  <tbody>\n",
       "    <tr>\n",
       "      <th>2005-01-03 00:00:00+00:00</th>\n",
       "      <td>22.110</td>\n",
       "      <td>22.550</td>\n",
       "      <td>22.068</td>\n",
       "      <td>22.271</td>\n",
       "      <td>4324900.0</td>\n",
       "      <td>22.271</td>\n",
       "    </tr>\n",
       "    <tr>\n",
       "      <th>2005-01-04 00:00:00+00:00</th>\n",
       "      <td>22.208</td>\n",
       "      <td>22.606</td>\n",
       "      <td>22.208</td>\n",
       "      <td>22.424</td>\n",
       "      <td>5149200.0</td>\n",
       "      <td>22.424</td>\n",
       "    </tr>\n",
       "    <tr>\n",
       "      <th>2005-01-05 00:00:00+00:00</th>\n",
       "      <td>22.446</td>\n",
       "      <td>22.578</td>\n",
       "      <td>22.278</td>\n",
       "      <td>22.285</td>\n",
       "      <td>3840200.0</td>\n",
       "      <td>22.285</td>\n",
       "    </tr>\n",
       "    <tr>\n",
       "      <th>2005-01-06 00:00:00+00:00</th>\n",
       "      <td>22.278</td>\n",
       "      <td>22.537</td>\n",
       "      <td>22.250</td>\n",
       "      <td>22.467</td>\n",
       "      <td>3502500.0</td>\n",
       "      <td>22.467</td>\n",
       "    </tr>\n",
       "    <tr>\n",
       "      <th>2005-01-07 00:00:00+00:00</th>\n",
       "      <td>22.411</td>\n",
       "      <td>22.516</td>\n",
       "      <td>22.201</td>\n",
       "      <td>22.278</td>\n",
       "      <td>3458700.0</td>\n",
       "      <td>22.278</td>\n",
       "    </tr>\n",
       "  </tbody>\n",
       "</table>\n",
       "</div>"
      ],
      "text/plain": [
       "                           open_price    high     low  close_price     volume  \\\n",
       "2005-01-03 00:00:00+00:00      22.110  22.550  22.068       22.271  4324900.0   \n",
       "2005-01-04 00:00:00+00:00      22.208  22.606  22.208       22.424  5149200.0   \n",
       "2005-01-05 00:00:00+00:00      22.446  22.578  22.278       22.285  3840200.0   \n",
       "2005-01-06 00:00:00+00:00      22.278  22.537  22.250       22.467  3502500.0   \n",
       "2005-01-07 00:00:00+00:00      22.411  22.516  22.201       22.278  3458700.0   \n",
       "\n",
       "                            price  \n",
       "2005-01-03 00:00:00+00:00  22.271  \n",
       "2005-01-04 00:00:00+00:00  22.424  \n",
       "2005-01-05 00:00:00+00:00  22.285  \n",
       "2005-01-06 00:00:00+00:00  22.467  \n",
       "2005-01-07 00:00:00+00:00  22.278  "
      ]
     },
     "execution_count": 6,
     "metadata": {},
     "output_type": "execute_result"
    }
   ],
   "source": [
    "mcdon.head()"
   ]
  },
  {
   "cell_type": "code",
   "execution_count": 7,
   "metadata": {},
   "outputs": [
    {
     "data": {
      "text/plain": [
       "<matplotlib.axes._subplots.AxesSubplot at 0x7f5ef411cc18>"
      ]
     },
     "execution_count": 7,
     "metadata": {},
     "output_type": "execute_result"
    },
    {
     "data": {
      "image/png": "[encoded data removed]",
      "text/plain": [
       "<matplotlib.figure.Figure at 0x7f5ee25bb588>"
      ]
     },
     "metadata": {},
     "output_type": "display_data"
    }
   ],
   "source": [
    "mcdon['close_price'].plot()"
   ]
  },
  {
   "cell_type": "code",
   "execution_count": 8,
   "metadata": {},
   "outputs": [
    {
     "data": {
      "text/plain": [
       "<matplotlib.axes._subplots.AxesSubplot at 0x7f5ee2a92748>"
      ]
     },
     "execution_count": 8,
     "metadata": {},
     "output_type": "execute_result"
    },
    {
     "data": {
      "image/png": "[encoded data removed]",
      "text/plain": [
       "<matplotlib.figure.Figure at 0x7f5ee7f24198>"
      ]
     },
     "metadata": {},
     "output_type": "display_data"
    }
   ],
   "source": [
    "mcdon['close_price'].pct_change(1).hist(bins=100,figsize=(6,4))"
   ]
  },
  {
   "cell_type": "code",
   "execution_count": 9,
   "metadata": {},
   "outputs": [],
   "source": [
    "mcdon_eq_info = symbols('MCD')"
   ]
  },
  {
   "cell_type": "code",
   "execution_count": 10,
   "metadata": {},
   "outputs": [
    {
     "data": {
      "text/plain": [
       "<class 'zipline.assets._assets.Equity'>"
      ]
     },
     "execution_count": 10,
     "metadata": {},
     "output_type": "execute_result"
    }
   ],
   "source": [
    "type(mcdon_eq_info)"
   ]
  },
  {
   "cell_type": "code",
   "execution_count": 11,
   "metadata": {},
   "outputs": [
    {
     "data": {
      "text/plain": [
       "{'asset_name': 'MCDONALDS CORP',\n",
       " 'auto_close_date': Timestamp('2020-04-08 00:00:00+0000', tz='UTC'),\n",
       " 'end_date': Timestamp('2020-04-03 00:00:00+0000', tz='UTC'),\n",
       " 'exchange': 'NYSE',\n",
       " 'exchange_full': 'NEW YORK STOCK EXCHANGE',\n",
       " 'exchange_info': ExchangeInfo('NEW YORK STOCK EXCHANGE', 'NYSE', 'US'),\n",
       " 'first_traded': None,\n",
       " 'multiplier': 1.0,\n",
       " 'sid': 4707,\n",
       " 'start_date': Timestamp('2002-01-01 00:00:00+0000', tz='UTC'),\n",
       " 'symbol': 'MCD',\n",
       " 'tick_size': 0.01}"
      ]
     },
     "execution_count": 11,
     "metadata": {},
     "output_type": "execute_result"
    }
   ],
   "source": [
    "mcdon_eq_info.to_dict()"
   ]
  },
  {
   "cell_type": "code",
   "execution_count": null,
   "metadata": {},
   "outputs": [],
   "source": []
  },
  {
   "cell_type": "code",
   "execution_count": null,
   "metadata": {},
   "outputs": [],
   "source": []
  }
 ],
 "metadata": {
  "kernelspec": {
   "display_name": "Python 3.5",
   "language": "python",
   "name": "py35"
  },
  "language_info": {
   "codemirror_mode": {
    "name": "ipython",
    "version": 3
   },
   "file_extension": ".py",
   "mimetype": "text/x-python",
   "name": "python",
   "nbconvert_exporter": "python",
   "pygments_lexer": "ipython3",
   "version": "3.5.9"
  }
 },
 "nbformat": 4,
 "nbformat_minor": 2
}
