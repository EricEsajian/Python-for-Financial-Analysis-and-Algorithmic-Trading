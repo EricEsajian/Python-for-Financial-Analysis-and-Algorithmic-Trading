{
 "cells": [
  {
   "cell_type": "code",
   "execution_count": 1,
   "metadata": {},
   "outputs": [],
   "source": [
    "from quantopian.pipeline import Pipeline"
   ]
  },
  {
   "cell_type": "code",
   "execution_count": 2,
   "metadata": {},
   "outputs": [],
   "source": [
    "def make_pipeline():\n",
    "    return Pipeline()"
   ]
  },
  {
   "cell_type": "code",
   "execution_count": 3,
   "metadata": {},
   "outputs": [],
   "source": [
    "pipe = make_pipeline()"
   ]
  },
  {
   "cell_type": "code",
   "execution_count": 4,
   "metadata": {},
   "outputs": [
    {
     "data": {
      "text/plain": [
       "<zipline.pipeline.pipeline.Pipeline at 0x7f04dc30c0d8>"
      ]
     },
     "execution_count": 4,
     "metadata": {},
     "output_type": "execute_result"
    }
   ],
   "source": [
    "pipe"
   ]
  },
  {
   "cell_type": "code",
   "execution_count": 5,
   "metadata": {},
   "outputs": [],
   "source": [
    "from quantopian.research import run_pipeline"
   ]
  },
  {
   "cell_type": "code",
   "execution_count": 7,
   "metadata": {},
   "outputs": [
    {
     "data": {
      "application/vnd.jupyter.widget-view+json": {
       "model_id": "",
       "version_major": 2,
       "version_minor": 0
      },
      "text/plain": []
     },
     "metadata": {},
     "output_type": "display_data"
    },
    {
     "data": {
      "text/html": [
       "<b>Pipeline Execution Time:</b> 1.24 Seconds"
      ],
      "text/plain": [
       "<IPython.core.display.HTML object>"
      ]
     },
     "metadata": {},
     "output_type": "display_data"
    }
   ],
   "source": [
    "result = run_pipeline(pipe, '2017-01-01','2017-01-03')"
   ]
  },
  {
   "cell_type": "code",
   "execution_count": 8,
   "metadata": {},
   "outputs": [
    {
     "data": {
      "text/html": [
       "<div>\n",
       "<table border=\"1\" class=\"dataframe\">\n",
       "  <thead>\n",
       "    <tr style=\"text-align: right;\">\n",
       "      <th></th>\n",
       "      <th></th>\n",
       "    </tr>\n",
       "  </thead>\n",
       "  <tbody>\n",
       "    <tr>\n",
       "      <th rowspan=\"61\" valign=\"top\">2017-01-03 00:00:00+00:00</th>\n",
       "      <th>Equity(2 [HWM])</th>\n",
       "    </tr>\n",
       "    <tr>\n",
       "      <th>Equity(21 [AAME])</th>\n",
       "    </tr>\n",
       "    <tr>\n",
       "      <th>Equity(24 [AAPL])</th>\n",
       "    </tr>\n",
       "    <tr>\n",
       "      <th>Equity(25 [HWM_PR])</th>\n",
       "    </tr>\n",
       "    <tr>\n",
       "      <th>Equity(31 [ABAX])</th>\n",
       "    </tr>\n",
       "    <tr>\n",
       "      <th>Equity(39 [DDC])</th>\n",
       "    </tr>\n",
       "    <tr>\n",
       "      <th>Equity(41 [ARCB])</th>\n",
       "    </tr>\n",
       "    <tr>\n",
       "      <th>Equity(52 [ABM])</th>\n",
       "    </tr>\n",
       "    <tr>\n",
       "      <th>Equity(53 [ABMD])</th>\n",
       "    </tr>\n",
       "    <tr>\n",
       "      <th>Equity(62 [ABT])</th>\n",
       "    </tr>\n",
       "    <tr>\n",
       "      <th>Equity(64 [GOLD])</th>\n",
       "    </tr>\n",
       "    <tr>\n",
       "      <th>Equity(66 [AB])</th>\n",
       "    </tr>\n",
       "    <tr>\n",
       "      <th>Equity(67 [ADSK])</th>\n",
       "    </tr>\n",
       "    <tr>\n",
       "      <th>Equity(69 [ACAT])</th>\n",
       "    </tr>\n",
       "    <tr>\n",
       "      <th>Equity(70 [VBF])</th>\n",
       "    </tr>\n",
       "    <tr>\n",
       "      <th>Equity(76 [TAP])</th>\n",
       "    </tr>\n",
       "    <tr>\n",
       "      <th>Equity(84 [ACET])</th>\n",
       "    </tr>\n",
       "    <tr>\n",
       "      <th>Equity(100 [IEP])</th>\n",
       "    </tr>\n",
       "    <tr>\n",
       "      <th>Equity(106 [ACU])</th>\n",
       "    </tr>\n",
       "    <tr>\n",
       "      <th>Equity(110 [RAMP])</th>\n",
       "    </tr>\n",
       "    <tr>\n",
       "      <th>Equity(112 [ACY])</th>\n",
       "    </tr>\n",
       "    <tr>\n",
       "      <th>Equity(114 [ADBE])</th>\n",
       "    </tr>\n",
       "    <tr>\n",
       "      <th>Equity(117 [AEY])</th>\n",
       "    </tr>\n",
       "    <tr>\n",
       "      <th>Equity(122 [ADI])</th>\n",
       "    </tr>\n",
       "    <tr>\n",
       "      <th>Equity(128 [ADM])</th>\n",
       "    </tr>\n",
       "    <tr>\n",
       "      <th>Equity(149 [ADX])</th>\n",
       "    </tr>\n",
       "    <tr>\n",
       "      <th>Equity(153 [AE])</th>\n",
       "    </tr>\n",
       "    <tr>\n",
       "      <th>Equity(154 [AEM])</th>\n",
       "    </tr>\n",
       "    <tr>\n",
       "      <th>Equity(157 [AEG])</th>\n",
       "    </tr>\n",
       "    <tr>\n",
       "      <th>Equity(161 [AEP])</th>\n",
       "    </tr>\n",
       "    <tr>\n",
       "      <th>...</th>\n",
       "    </tr>\n",
       "    <tr>\n",
       "      <th>Equity(50534 [HGV])</th>\n",
       "    </tr>\n",
       "    <tr>\n",
       "      <th>Equity(50535 [PK])</th>\n",
       "    </tr>\n",
       "    <tr>\n",
       "      <th>Equity(50537 [WRD])</th>\n",
       "    </tr>\n",
       "    <tr>\n",
       "      <th>Equity(50539 [TIG])</th>\n",
       "    </tr>\n",
       "    <tr>\n",
       "      <th>Equity(50540 [TRVG])</th>\n",
       "    </tr>\n",
       "    <tr>\n",
       "      <th>Equity(50541 [KEY_PRI])</th>\n",
       "    </tr>\n",
       "    <tr>\n",
       "      <th>Equity(50542 [JHMD])</th>\n",
       "    </tr>\n",
       "    <tr>\n",
       "      <th>Equity(50543 [COWZ])</th>\n",
       "    </tr>\n",
       "    <tr>\n",
       "      <th>Equity(50544 [KEG])</th>\n",
       "    </tr>\n",
       "    <tr>\n",
       "      <th>Equity(50546 [NURE])</th>\n",
       "    </tr>\n",
       "    <tr>\n",
       "      <th>Equity(50547 [YTRA])</th>\n",
       "    </tr>\n",
       "    <tr>\n",
       "      <th>Equity(50548 [PHIO_W])</th>\n",
       "    </tr>\n",
       "    <tr>\n",
       "      <th>Equity(50549 [BMLP])</th>\n",
       "    </tr>\n",
       "    <tr>\n",
       "      <th>Equity(50550 [WBIY])</th>\n",
       "    </tr>\n",
       "    <tr>\n",
       "      <th>Equity(50552 [FIV])</th>\n",
       "    </tr>\n",
       "    <tr>\n",
       "      <th>Equity(50554 [HEBT])</th>\n",
       "    </tr>\n",
       "    <tr>\n",
       "      <th>Equity(50555 [UUUU_WS])</th>\n",
       "    </tr>\n",
       "    <tr>\n",
       "      <th>Equity(50556 [SAB_CL])</th>\n",
       "    </tr>\n",
       "    <tr>\n",
       "      <th>Equity(50558 [INFR])</th>\n",
       "    </tr>\n",
       "    <tr>\n",
       "      <th>Equity(50559 [VVPR])</th>\n",
       "    </tr>\n",
       "    <tr>\n",
       "      <th>Equity(50560 [XK])</th>\n",
       "    </tr>\n",
       "    <tr>\n",
       "      <th>Equity(50561 [XE])</th>\n",
       "    </tr>\n",
       "    <tr>\n",
       "      <th>Equity(50562 [XH])</th>\n",
       "    </tr>\n",
       "    <tr>\n",
       "      <th>Equity(50563 [XM])</th>\n",
       "    </tr>\n",
       "    <tr>\n",
       "      <th>Equity(50564 [XD])</th>\n",
       "    </tr>\n",
       "    <tr>\n",
       "      <th>Equity(50565 [XI])</th>\n",
       "    </tr>\n",
       "    <tr>\n",
       "      <th>Equity(50566 [XU])</th>\n",
       "    </tr>\n",
       "    <tr>\n",
       "      <th>Equity(50567 [XF])</th>\n",
       "    </tr>\n",
       "    <tr>\n",
       "      <th>Equity(50568 [XS])</th>\n",
       "    </tr>\n",
       "    <tr>\n",
       "      <th>Equity(50569 [OUSM])</th>\n",
       "    </tr>\n",
       "  </tbody>\n",
       "</table>\n",
       "<p>8356 rows × 0 columns</p>\n",
       "</div>"
      ],
      "text/plain": [
       "Empty DataFrame\n",
       "Columns: []\n",
       "Index: [(2017-01-03 00:00:00+00:00, Equity(2 [HWM])), (2017-01-03 00:00:00+00:00, Equity(21 [AAME])), (2017-01-03 00:00:00+00:00, Equity(24 [AAPL])), (2017-01-03 00:00:00+00:00, Equity(25 [HWM_PR])), (2017-01-03 00:00:00+00:00, Equity(31 [ABAX])), (2017-01-03 00:00:00+00:00, Equity(39 [DDC])), (2017-01-03 00:00:00+00:00, Equity(41 [ARCB])), (2017-01-03 00:00:00+00:00, Equity(52 [ABM])), (2017-01-03 00:00:00+00:00, Equity(53 [ABMD])), (2017-01-03 00:00:00+00:00, Equity(62 [ABT])), (2017-01-03 00:00:00+00:00, Equity(64 [GOLD])), (2017-01-03 00:00:00+00:00, Equity(66 [AB])), (2017-01-03 00:00:00+00:00, Equity(67 [ADSK])), (2017-01-03 00:00:00+00:00, Equity(69 [ACAT])), (2017-01-03 00:00:00+00:00, Equity(70 [VBF])), (2017-01-03 00:00:00+00:00, Equity(76 [TAP])), (2017-01-03 00:00:00+00:00, Equity(84 [ACET])), (2017-01-03 00:00:00+00:00, Equity(100 [IEP])), (2017-01-03 00:00:00+00:00, Equity(106 [ACU])), (2017-01-03 00:00:00+00:00, Equity(110 [RAMP])), (2017-01-03 00:00:00+00:00, Equity(112 [ACY])), (2017-01-03 00:00:00+00:00, Equity(114 [ADBE])), (2017-01-03 00:00:00+00:00, Equity(117 [AEY])), (2017-01-03 00:00:00+00:00, Equity(122 [ADI])), (2017-01-03 00:00:00+00:00, Equity(128 [ADM])), (2017-01-03 00:00:00+00:00, Equity(149 [ADX])), (2017-01-03 00:00:00+00:00, Equity(153 [AE])), (2017-01-03 00:00:00+00:00, Equity(154 [AEM])), (2017-01-03 00:00:00+00:00, Equity(157 [AEG])), (2017-01-03 00:00:00+00:00, Equity(161 [AEP])), (2017-01-03 00:00:00+00:00, Equity(162 [AEPI])), (2017-01-03 00:00:00+00:00, Equity(166 [AES])), (2017-01-03 00:00:00+00:00, Equity(168 [AET])), (2017-01-03 00:00:00+00:00, Equity(185 [AFL])), (2017-01-03 00:00:00+00:00, Equity(192 [ATAX])), (2017-01-03 00:00:00+00:00, Equity(197 [AGCO])), (2017-01-03 00:00:00+00:00, Equity(216 [HES])), (2017-01-03 00:00:00+00:00, Equity(225 [AHPI])), (2017-01-03 00:00:00+00:00, Equity(239 [AIG])), (2017-01-03 00:00:00+00:00, Equity(247 [AIN])), (2017-01-03 00:00:00+00:00, Equity(253 [AIR])), (2017-01-03 00:00:00+00:00, Equity(266 [AJG])), (2017-01-03 00:00:00+00:00, Equity(270 [AKRX])), (2017-01-03 00:00:00+00:00, Equity(283 [ALCO])), (2017-01-03 00:00:00+00:00, Equity(289 [MATX])), (2017-01-03 00:00:00+00:00, Equity(300 [ALK])), (2017-01-03 00:00:00+00:00, Equity(301 [ALKS])), (2017-01-03 00:00:00+00:00, Equity(311 [ALOG])), (2017-01-03 00:00:00+00:00, Equity(312 [ALOT])), (2017-01-03 00:00:00+00:00, Equity(332 [ALX])), (2017-01-03 00:00:00+00:00, Equity(337 [AMAT])), (2017-01-03 00:00:00+00:00, Equity(351 [AMD])), (2017-01-03 00:00:00+00:00, Equity(353 [AME])), (2017-01-03 00:00:00+00:00, Equity(357 [TWX])), (2017-01-03 00:00:00+00:00, Equity(366 [AVD])), (2017-01-03 00:00:00+00:00, Equity(368 [AMGN])), (2017-01-03 00:00:00+00:00, Equity(371 [TVTY])), (2017-01-03 00:00:00+00:00, Equity(392 [AMS])), (2017-01-03 00:00:00+00:00, Equity(393 [AMSC])), (2017-01-03 00:00:00+00:00, Equity(397 [AMSW_A])), (2017-01-03 00:00:00+00:00, Equity(405 [AMWD])), (2017-01-03 00:00:00+00:00, Equity(410 [AN])), (2017-01-03 00:00:00+00:00, Equity(412 [ANAT])), (2017-01-03 00:00:00+00:00, Equity(438 [AON])), (2017-01-03 00:00:00+00:00, Equity(447 [AP])), (2017-01-03 00:00:00+00:00, Equity(448 [APA])), (2017-01-03 00:00:00+00:00, Equity(450 [CLFD])), (2017-01-03 00:00:00+00:00, Equity(451 [APB])), (2017-01-03 00:00:00+00:00, Equity(455 [APC])), (2017-01-03 00:00:00+00:00, Equity(460 [APD])), (2017-01-03 00:00:00+00:00, Equity(465 [APH])), (2017-01-03 00:00:00+00:00, Equity(474 [APOG])), (2017-01-03 00:00:00+00:00, Equity(484 [EPAC])), (2017-01-03 00:00:00+00:00, Equity(508 [AIRM])), (2017-01-03 00:00:00+00:00, Equity(523 [AAN])), (2017-01-03 00:00:00+00:00, Equity(526 [AROW])), (2017-01-03 00:00:00+00:00, Equity(535 [ARTW])), (2017-01-03 00:00:00+00:00, Equity(538 [ARW])), (2017-01-03 00:00:00+00:00, Equity(542 [ASA])), (2017-01-03 00:00:00+00:00, Equity(547 [ASB])), (2017-01-03 00:00:00+00:00, Equity(557 [ASGN])), (2017-01-03 00:00:00+00:00, Equity(559 [ASH])), (2017-01-03 00:00:00+00:00, Equity(576 [ASR])), (2017-01-03 00:00:00+00:00, Equity(579 [ASTE])), (2017-01-03 00:00:00+00:00, Equity(600 [OA])), (2017-01-03 00:00:00+00:00, Equity(610 [ATNI])), (2017-01-03 00:00:00+00:00, Equity(612 [ATO])), (2017-01-03 00:00:00+00:00, Equity(617 [ATRO])), (2017-01-03 00:00:00+00:00, Equity(624 [ATW])), (2017-01-03 00:00:00+00:00, Equity(629 [AU])), (2017-01-03 00:00:00+00:00, Equity(630 [ADP])), (2017-01-03 00:00:00+00:00, Equity(659 [AMAG])), (2017-01-03 00:00:00+00:00, Equity(660 [AVP])), (2017-01-03 00:00:00+00:00, Equity(661 [AVT])), (2017-01-03 00:00:00+00:00, Equity(662 [AVHI])), (2017-01-03 00:00:00+00:00, Equity(663 [AVY])), (2017-01-03 00:00:00+00:00, Equity(677 [AXAS])), (2017-01-03 00:00:00+00:00, Equity(679 [AXP])), (2017-01-03 00:00:00+00:00, Equity(680 [AXR])), (2017-01-03 00:00:00+00:00, Equity(693 [AZO])), ...]\n",
       "\n",
       "[8356 rows x 0 columns]"
      ]
     },
     "execution_count": 8,
     "metadata": {},
     "output_type": "execute_result"
    }
   ],
   "source": [
    "result"
   ]
  },
  {
   "cell_type": "code",
   "execution_count": 9,
   "metadata": {},
   "outputs": [],
   "source": [
    "from quantopian.pipeline.data.builtin import USEquityPricing"
   ]
  },
  {
   "cell_type": "code",
   "execution_count": 10,
   "metadata": {},
   "outputs": [],
   "source": [
    "from quantopian.pipeline.factors import SimpleMovingAverage"
   ]
  },
  {
   "cell_type": "code",
   "execution_count": 11,
   "metadata": {},
   "outputs": [
    {
     "data": {
      "text/plain": [
       "SimpleMovingAverage([EquityPricing<US>.close], 30)"
      ]
     },
     "execution_count": 11,
     "metadata": {},
     "output_type": "execute_result"
    }
   ],
   "source": [
    "SimpleMovingAverage(inputs=[USEquityPricing.close],window_length=30)"
   ]
  },
  {
   "cell_type": "code",
   "execution_count": 13,
   "metadata": {},
   "outputs": [],
   "source": [
    "def make_pipeline():\n",
    "    \n",
    "    mean_close_30 = SimpleMovingAverage(inputs=[USEquityPricing.close],window_length=30)\n",
    "    \n",
    "    return Pipeline(columns={'30 Day Mean Close': mean_close_30})"
   ]
  },
  {
   "cell_type": "code",
   "execution_count": 14,
   "metadata": {},
   "outputs": [
    {
     "data": {
      "application/vnd.jupyter.widget-view+json": {
       "model_id": "",
       "version_major": 2,
       "version_minor": 0
      },
      "text/plain": []
     },
     "metadata": {},
     "output_type": "display_data"
    },
    {
     "data": {
      "text/html": [
       "<b>Pipeline Execution Time:</b> 17.69 Seconds"
      ],
      "text/plain": [
       "<IPython.core.display.HTML object>"
      ]
     },
     "metadata": {},
     "output_type": "display_data"
    }
   ],
   "source": [
    "results = run_pipeline(make_pipeline(),'2017-01-01','2017-01-03')"
   ]
  },
  {
   "cell_type": "code",
   "execution_count": 15,
   "metadata": {},
   "outputs": [
    {
     "data": {
      "text/html": [
       "<div>\n",
       "<table border=\"1\" class=\"dataframe\">\n",
       "  <thead>\n",
       "    <tr style=\"text-align: right;\">\n",
       "      <th></th>\n",
       "      <th></th>\n",
       "      <th>30 Day Mean Close</th>\n",
       "    </tr>\n",
       "  </thead>\n",
       "  <tbody>\n",
       "    <tr>\n",
       "      <th rowspan=\"5\" valign=\"top\">2017-01-03 00:00:00+00:00</th>\n",
       "      <th>Equity(2 [HWM])</th>\n",
       "      <td>20.110500</td>\n",
       "    </tr>\n",
       "    <tr>\n",
       "      <th>Equity(21 [AAME])</th>\n",
       "      <td>3.899241</td>\n",
       "    </tr>\n",
       "    <tr>\n",
       "      <th>Equity(24 [AAPL])</th>\n",
       "      <td>113.368433</td>\n",
       "    </tr>\n",
       "    <tr>\n",
       "      <th>Equity(25 [HWM_PR])</th>\n",
       "      <td>86.796111</td>\n",
       "    </tr>\n",
       "    <tr>\n",
       "      <th>Equity(31 [ABAX])</th>\n",
       "      <td>52.498394</td>\n",
       "    </tr>\n",
       "  </tbody>\n",
       "</table>\n",
       "</div>"
      ],
      "text/plain": [
       "                                               30 Day Mean Close\n",
       "2017-01-03 00:00:00+00:00 Equity(2 [HWM])              20.110500\n",
       "                          Equity(21 [AAME])             3.899241\n",
       "                          Equity(24 [AAPL])           113.368433\n",
       "                          Equity(25 [HWM_PR])          86.796111\n",
       "                          Equity(31 [ABAX])            52.498394"
      ]
     },
     "execution_count": 15,
     "metadata": {},
     "output_type": "execute_result"
    }
   ],
   "source": [
    "results.head()"
   ]
  },
  {
   "cell_type": "code",
   "execution_count": 39,
   "metadata": {},
   "outputs": [],
   "source": [
    "def make_pipeline():\n",
    "    \n",
    "    latest_close = USEquityPricing.close.latest\n",
    "    small_price = latest_close < 5\n",
    "    \n",
    "    mean_close_10 = SimpleMovingAverage(inputs=[USEquityPricing.close],window_length=10,mask=small_price)\n",
    "    mean_close_30 = SimpleMovingAverage(inputs=[USEquityPricing.close],window_length=30,mask=small_price)\n",
    "    \n",
    "    \n",
    "    \n",
    "    percent_difference = (mean_close_10 - mean_close_30)/mean_close_30\n",
    "    \n",
    "    perc_diff_check = percent_difference > 0\n",
    "    \n",
    "    \n",
    "    # Combine Filters\n",
    "    final_filter = perc_diff_check & small_price\n",
    "    \n",
    "    return Pipeline(columns={\n",
    "                            '30 Day Mean Close': mean_close_30,\n",
    "                            'Percent Difference':percent_difference,\n",
    "                            'Latest Close': latest_close,\n",
    "                            'Percent Filter': perc_diff_check},\n",
    "                    screen=final_filter)"
   ]
  },
  {
   "cell_type": "code",
   "execution_count": 40,
   "metadata": {},
   "outputs": [
    {
     "data": {
      "application/vnd.jupyter.widget-view+json": {
       "model_id": "",
       "version_major": 2,
       "version_minor": 0
      },
      "text/plain": []
     },
     "metadata": {},
     "output_type": "display_data"
    },
    {
     "data": {
      "text/html": [
       "<b>Pipeline Execution Time:</b> 0.47 Seconds"
      ],
      "text/plain": [
       "<IPython.core.display.HTML object>"
      ]
     },
     "metadata": {},
     "output_type": "display_data"
    }
   ],
   "source": [
    "results = run_pipeline(make_pipeline(),'2017-01-01','2017-01-03')"
   ]
  },
  {
   "cell_type": "code",
   "execution_count": 41,
   "metadata": {},
   "outputs": [
    {
     "data": {
      "text/html": [
       "<div>\n",
       "<table border=\"1\" class=\"dataframe\">\n",
       "  <thead>\n",
       "    <tr style=\"text-align: right;\">\n",
       "      <th></th>\n",
       "      <th></th>\n",
       "      <th>30 Day Mean Close</th>\n",
       "      <th>Latest Close</th>\n",
       "      <th>Percent Difference</th>\n",
       "      <th>Percent Filter</th>\n",
       "    </tr>\n",
       "  </thead>\n",
       "  <tbody>\n",
       "    <tr>\n",
       "      <th rowspan=\"5\" valign=\"top\">2017-01-03 00:00:00+00:00</th>\n",
       "      <th>Equity(535 [ARTW])</th>\n",
       "      <td>3.097778</td>\n",
       "      <td>3.40</td>\n",
       "      <td>0.013271</td>\n",
       "      <td>True</td>\n",
       "    </tr>\n",
       "    <tr>\n",
       "      <th>Equity(677 [AXAS])</th>\n",
       "      <td>2.265333</td>\n",
       "      <td>2.56</td>\n",
       "      <td>0.145527</td>\n",
       "      <td>True</td>\n",
       "    </tr>\n",
       "    <tr>\n",
       "      <th>Equity(1144 [LCTX])</th>\n",
       "      <td>3.531167</td>\n",
       "      <td>3.62</td>\n",
       "      <td>0.065795</td>\n",
       "      <td>True</td>\n",
       "    </tr>\n",
       "    <tr>\n",
       "      <th>Equity(1323 [CAW])</th>\n",
       "      <td>2.541333</td>\n",
       "      <td>2.60</td>\n",
       "      <td>0.016002</td>\n",
       "      <td>True</td>\n",
       "    </tr>\n",
       "    <tr>\n",
       "      <th>Equity(1546 [CIF])</th>\n",
       "      <td>2.500370</td>\n",
       "      <td>2.57</td>\n",
       "      <td>0.015579</td>\n",
       "      <td>True</td>\n",
       "    </tr>\n",
       "  </tbody>\n",
       "</table>\n",
       "</div>"
      ],
      "text/plain": [
       "                                               30 Day Mean Close  \\\n",
       "2017-01-03 00:00:00+00:00 Equity(535 [ARTW])            3.097778   \n",
       "                          Equity(677 [AXAS])            2.265333   \n",
       "                          Equity(1144 [LCTX])           3.531167   \n",
       "                          Equity(1323 [CAW])            2.541333   \n",
       "                          Equity(1546 [CIF])            2.500370   \n",
       "\n",
       "                                               Latest Close  \\\n",
       "2017-01-03 00:00:00+00:00 Equity(535 [ARTW])           3.40   \n",
       "                          Equity(677 [AXAS])           2.56   \n",
       "                          Equity(1144 [LCTX])          3.62   \n",
       "                          Equity(1323 [CAW])           2.60   \n",
       "                          Equity(1546 [CIF])           2.57   \n",
       "\n",
       "                                               Percent Difference  \\\n",
       "2017-01-03 00:00:00+00:00 Equity(535 [ARTW])             0.013271   \n",
       "                          Equity(677 [AXAS])             0.145527   \n",
       "                          Equity(1144 [LCTX])            0.065795   \n",
       "                          Equity(1323 [CAW])             0.016002   \n",
       "                          Equity(1546 [CIF])             0.015579   \n",
       "\n",
       "                                              Percent Filter  \n",
       "2017-01-03 00:00:00+00:00 Equity(535 [ARTW])            True  \n",
       "                          Equity(677 [AXAS])            True  \n",
       "                          Equity(1144 [LCTX])           True  \n",
       "                          Equity(1323 [CAW])            True  \n",
       "                          Equity(1546 [CIF])            True  "
      ]
     },
     "execution_count": 41,
     "metadata": {},
     "output_type": "execute_result"
    }
   ],
   "source": [
    "results.head()"
   ]
  },
  {
   "cell_type": "code",
   "execution_count": 42,
   "metadata": {},
   "outputs": [],
   "source": [
    "from quantopian.pipeline.data import morningstar\n",
    "from quantopian.pipeline.classifiers.morningstar import Sector"
   ]
  },
  {
   "cell_type": "code",
   "execution_count": 43,
   "metadata": {},
   "outputs": [],
   "source": [
    "morningstar_sector = Sector()"
   ]
  },
  {
   "cell_type": "code",
   "execution_count": 44,
   "metadata": {},
   "outputs": [],
   "source": [
    "exchange = morningstar.share_class_reference.exchange_id.latest"
   ]
  },
  {
   "cell_type": "code",
   "execution_count": 45,
   "metadata": {},
   "outputs": [
    {
     "data": {
      "text/plain": [
       "Latest([share_class_reference<US>.exchange_id], 1)"
      ]
     },
     "execution_count": 45,
     "metadata": {},
     "output_type": "execute_result"
    }
   ],
   "source": [
    "exchange"
   ]
  },
  {
   "cell_type": "code",
   "execution_count": 46,
   "metadata": {},
   "outputs": [],
   "source": [
    "nyse_filter = exchange.eq('NYSE')"
   ]
  },
  {
   "cell_type": "code",
   "execution_count": 47,
   "metadata": {},
   "outputs": [],
   "source": [
    "def make_pipeline():\n",
    "    \n",
    "    latest_close = USEquityPricing.close.latest\n",
    "    small_price = latest_close < 5\n",
    "    \n",
    "    # Classifier\n",
    "    nyse_filter = exchange.eq('NYS')\n",
    "    \n",
    "    mean_close_10 = SimpleMovingAverage(inputs=[USEquityPricing.close],window_length=10,mask=small_price)\n",
    "    mean_close_30 = SimpleMovingAverage(inputs=[USEquityPricing.close],window_length=30,mask=small_price)\n",
    "    \n",
    "    \n",
    "    \n",
    "    percent_difference = (mean_close_10 - mean_close_30)/mean_close_30\n",
    "    \n",
    "    perc_diff_check = percent_difference > 0\n",
    "    \n",
    "    \n",
    "    # Combine Filters\n",
    "    final_filter = perc_diff_check & nyse_filter\n",
    "    \n",
    "    return Pipeline(columns={\n",
    "                            '30 Day Mean Close': mean_close_30,\n",
    "                            'Percent Difference':percent_difference,\n",
    "                            'Latest Close': latest_close,\n",
    "                            'Percent Filter': perc_diff_check},\n",
    "                    screen=final_filter)"
   ]
  },
  {
   "cell_type": "code",
   "execution_count": 48,
   "metadata": {},
   "outputs": [
    {
     "data": {
      "application/vnd.jupyter.widget-view+json": {
       "model_id": "",
       "version_major": 2,
       "version_minor": 0
      },
      "text/plain": []
     },
     "metadata": {},
     "output_type": "display_data"
    },
    {
     "data": {
      "text/html": [
       "<b>Pipeline Execution Time:</b> 2.90 Seconds"
      ],
      "text/plain": [
       "<IPython.core.display.HTML object>"
      ]
     },
     "metadata": {},
     "output_type": "display_data"
    }
   ],
   "source": [
    "results = run_pipeline(make_pipeline(),'2017-01-01','2017-01-03')"
   ]
  },
  {
   "cell_type": "code",
   "execution_count": 50,
   "metadata": {},
   "outputs": [
    {
     "data": {
      "text/html": [
       "<div>\n",
       "<table border=\"1\" class=\"dataframe\">\n",
       "  <thead>\n",
       "    <tr style=\"text-align: right;\">\n",
       "      <th></th>\n",
       "      <th></th>\n",
       "      <th>30 Day Mean Close</th>\n",
       "      <th>Latest Close</th>\n",
       "      <th>Percent Difference</th>\n",
       "      <th>Percent Filter</th>\n",
       "    </tr>\n",
       "  </thead>\n",
       "  <tbody>\n",
       "    <tr>\n",
       "      <th rowspan=\"5\" valign=\"top\">2017-01-03 00:00:00+00:00</th>\n",
       "      <th>Equity(2586 [EQS])</th>\n",
       "      <td>1.960533</td>\n",
       "      <td>2.020</td>\n",
       "      <td>0.022120</td>\n",
       "      <td>True</td>\n",
       "    </tr>\n",
       "    <tr>\n",
       "      <th>Equity(3265 [GLF])</th>\n",
       "      <td>1.576367</td>\n",
       "      <td>1.725</td>\n",
       "      <td>0.162420</td>\n",
       "      <td>True</td>\n",
       "    </tr>\n",
       "    <tr>\n",
       "      <th>Equity(3645 [HOV])</th>\n",
       "      <td>2.406667</td>\n",
       "      <td>2.735</td>\n",
       "      <td>0.176939</td>\n",
       "      <td>True</td>\n",
       "    </tr>\n",
       "    <tr>\n",
       "      <th>Equity(4577 [LUB])</th>\n",
       "      <td>4.292333</td>\n",
       "      <td>4.270</td>\n",
       "      <td>0.004116</td>\n",
       "      <td>True</td>\n",
       "    </tr>\n",
       "    <tr>\n",
       "      <th>Equity(4971 [RT])</th>\n",
       "      <td>3.244000</td>\n",
       "      <td>3.240</td>\n",
       "      <td>0.009094</td>\n",
       "      <td>True</td>\n",
       "    </tr>\n",
       "  </tbody>\n",
       "</table>\n",
       "</div>"
      ],
      "text/plain": [
       "                                              30 Day Mean Close  Latest Close  \\\n",
       "2017-01-03 00:00:00+00:00 Equity(2586 [EQS])           1.960533         2.020   \n",
       "                          Equity(3265 [GLF])           1.576367         1.725   \n",
       "                          Equity(3645 [HOV])           2.406667         2.735   \n",
       "                          Equity(4577 [LUB])           4.292333         4.270   \n",
       "                          Equity(4971 [RT])            3.244000         3.240   \n",
       "\n",
       "                                              Percent Difference  \\\n",
       "2017-01-03 00:00:00+00:00 Equity(2586 [EQS])            0.022120   \n",
       "                          Equity(3265 [GLF])            0.162420   \n",
       "                          Equity(3645 [HOV])            0.176939   \n",
       "                          Equity(4577 [LUB])            0.004116   \n",
       "                          Equity(4971 [RT])             0.009094   \n",
       "\n",
       "                                             Percent Filter  \n",
       "2017-01-03 00:00:00+00:00 Equity(2586 [EQS])           True  \n",
       "                          Equity(3265 [GLF])           True  \n",
       "                          Equity(3645 [HOV])           True  \n",
       "                          Equity(4577 [LUB])           True  \n",
       "                          Equity(4971 [RT])            True  "
      ]
     },
     "execution_count": 50,
     "metadata": {},
     "output_type": "execute_result"
    }
   ],
   "source": [
    "results.head()"
   ]
  },
  {
   "cell_type": "code",
   "execution_count": null,
   "metadata": {},
   "outputs": [],
   "source": []
  }
 ],
 "metadata": {
  "kernelspec": {
   "display_name": "Python 3.5",
   "language": "python",
   "name": "py35"
  },
  "language_info": {
   "codemirror_mode": {
    "name": "ipython",
    "version": 3
   },
   "file_extension": ".py",
   "mimetype": "text/x-python",
   "name": "python",
   "nbconvert_exporter": "python",
   "pygments_lexer": "ipython3",
   "version": "3.5.9"
  }
 },
 "nbformat": 4,
 "nbformat_minor": 2
}
